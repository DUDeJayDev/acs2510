{
 "cells": [
  {
   "cell_type": "code",
   "execution_count": 1,
   "metadata": {},
   "outputs": [
    {
     "data": {
      "application/javascript": "(function(root) {\n  function now() {\n    return new Date();\n  }\n\n  var force = true;\n  var py_version = '3.3.4'.replace('rc', '-rc.').replace('.dev', '-dev.');\n  var reloading = false;\n  var Bokeh = root.Bokeh;\n\n  if (typeof (root._bokeh_timeout) === \"undefined\" || force) {\n    root._bokeh_timeout = Date.now() + 5000;\n    root._bokeh_failed_load = false;\n  }\n\n  function run_callbacks() {\n    try {\n      root._bokeh_onload_callbacks.forEach(function(callback) {\n        if (callback != null)\n          callback();\n      });\n    } finally {\n      delete root._bokeh_onload_callbacks;\n    }\n    console.debug(\"Bokeh: all callbacks have finished\");\n  }\n\n  function load_libs(css_urls, js_urls, js_modules, js_exports, callback) {\n    if (css_urls == null) css_urls = [];\n    if (js_urls == null) js_urls = [];\n    if (js_modules == null) js_modules = [];\n    if (js_exports == null) js_exports = {};\n\n    root._bokeh_onload_callbacks.push(callback);\n\n    if (root._bokeh_is_loading > 0) {\n      console.debug(\"Bokeh: BokehJS is being loaded, scheduling callback at\", now());\n      return null;\n    }\n    if (js_urls.length === 0 && js_modules.length === 0 && Object.keys(js_exports).length === 0) {\n      run_callbacks();\n      return null;\n    }\n    if (!reloading) {\n      console.debug(\"Bokeh: BokehJS not loaded, scheduling load and callback at\", now());\n    }\n\n    function on_load() {\n      root._bokeh_is_loading--;\n      if (root._bokeh_is_loading === 0) {\n        console.debug(\"Bokeh: all BokehJS libraries/stylesheets loaded\");\n        run_callbacks()\n      }\n    }\n    window._bokeh_on_load = on_load\n\n    function on_error() {\n      console.error(\"failed to load \" + url);\n    }\n\n    var skip = [];\n    if (window.requirejs) {\n      window.requirejs.config({'packages': {}, 'paths': {'jspanel': 'https://cdn.jsdelivr.net/npm/jspanel4@4.12.0/dist/jspanel', 'jspanel-modal': 'https://cdn.jsdelivr.net/npm/jspanel4@4.12.0/dist/extensions/modal/jspanel.modal', 'jspanel-tooltip': 'https://cdn.jsdelivr.net/npm/jspanel4@4.12.0/dist/extensions/tooltip/jspanel.tooltip', 'jspanel-hint': 'https://cdn.jsdelivr.net/npm/jspanel4@4.12.0/dist/extensions/hint/jspanel.hint', 'jspanel-layout': 'https://cdn.jsdelivr.net/npm/jspanel4@4.12.0/dist/extensions/layout/jspanel.layout', 'jspanel-contextmenu': 'https://cdn.jsdelivr.net/npm/jspanel4@4.12.0/dist/extensions/contextmenu/jspanel.contextmenu', 'jspanel-dock': 'https://cdn.jsdelivr.net/npm/jspanel4@4.12.0/dist/extensions/dock/jspanel.dock', 'gridstack': 'https://cdn.jsdelivr.net/npm/gridstack@7.2.3/dist/gridstack-all', 'notyf': 'https://cdn.jsdelivr.net/npm/notyf@3/notyf.min'}, 'shim': {'jspanel': {'exports': 'jsPanel'}, 'gridstack': {'exports': 'GridStack'}}});\n      require([\"jspanel\"], function(jsPanel) {\n\twindow.jsPanel = jsPanel\n\ton_load()\n      })\n      require([\"jspanel-modal\"], function() {\n\ton_load()\n      })\n      require([\"jspanel-tooltip\"], function() {\n\ton_load()\n      })\n      require([\"jspanel-hint\"], function() {\n\ton_load()\n      })\n      require([\"jspanel-layout\"], function() {\n\ton_load()\n      })\n      require([\"jspanel-contextmenu\"], function() {\n\ton_load()\n      })\n      require([\"jspanel-dock\"], function() {\n\ton_load()\n      })\n      require([\"gridstack\"], function(GridStack) {\n\twindow.GridStack = GridStack\n\ton_load()\n      })\n      require([\"notyf\"], function() {\n\ton_load()\n      })\n      root._bokeh_is_loading = css_urls.length + 9;\n    } else {\n      root._bokeh_is_loading = css_urls.length + js_urls.length + js_modules.length + Object.keys(js_exports).length;\n    }\n\n    var existing_stylesheets = []\n    var links = document.getElementsByTagName('link')\n    for (var i = 0; i < links.length; i++) {\n      var link = links[i]\n      if (link.href != null) {\n\texisting_stylesheets.push(link.href)\n      }\n    }\n    for (var i = 0; i < css_urls.length; i++) {\n      var url = css_urls[i];\n      if (existing_stylesheets.indexOf(url) !== -1) {\n\ton_load()\n\tcontinue;\n      }\n      const element = document.createElement(\"link\");\n      element.onload = on_load;\n      element.onerror = on_error;\n      element.rel = \"stylesheet\";\n      element.type = \"text/css\";\n      element.href = url;\n      console.debug(\"Bokeh: injecting link tag for BokehJS stylesheet: \", url);\n      document.body.appendChild(element);\n    }    if (((window['jsPanel'] !== undefined) && (!(window['jsPanel'] instanceof HTMLElement))) || window.requirejs) {\n      var urls = ['https://cdn.holoviz.org/panel/1.3.8/dist/bundled/floatpanel/jspanel4@4.12.0/dist/jspanel.js', 'https://cdn.holoviz.org/panel/1.3.8/dist/bundled/floatpanel/jspanel4@4.12.0/dist/extensions/modal/jspanel.modal.js', 'https://cdn.holoviz.org/panel/1.3.8/dist/bundled/floatpanel/jspanel4@4.12.0/dist/extensions/tooltip/jspanel.tooltip.js', 'https://cdn.holoviz.org/panel/1.3.8/dist/bundled/floatpanel/jspanel4@4.12.0/dist/extensions/hint/jspanel.hint.js', 'https://cdn.holoviz.org/panel/1.3.8/dist/bundled/floatpanel/jspanel4@4.12.0/dist/extensions/layout/jspanel.layout.js', 'https://cdn.holoviz.org/panel/1.3.8/dist/bundled/floatpanel/jspanel4@4.12.0/dist/extensions/contextmenu/jspanel.contextmenu.js', 'https://cdn.holoviz.org/panel/1.3.8/dist/bundled/floatpanel/jspanel4@4.12.0/dist/extensions/dock/jspanel.dock.js'];\n      for (var i = 0; i < urls.length; i++) {\n        skip.push(urls[i])\n      }\n    }    if (((window['GridStack'] !== undefined) && (!(window['GridStack'] instanceof HTMLElement))) || window.requirejs) {\n      var urls = ['https://cdn.holoviz.org/panel/1.3.8/dist/bundled/gridstack/gridstack@7.2.3/dist/gridstack-all.js'];\n      for (var i = 0; i < urls.length; i++) {\n        skip.push(urls[i])\n      }\n    }    if (((window['Notyf'] !== undefined) && (!(window['Notyf'] instanceof HTMLElement))) || window.requirejs) {\n      var urls = ['https://cdn.holoviz.org/panel/1.3.8/dist/bundled/notificationarea/notyf@3/notyf.min.js'];\n      for (var i = 0; i < urls.length; i++) {\n        skip.push(urls[i])\n      }\n    }    var existing_scripts = []\n    var scripts = document.getElementsByTagName('script')\n    for (var i = 0; i < scripts.length; i++) {\n      var script = scripts[i]\n      if (script.src != null) {\n\texisting_scripts.push(script.src)\n      }\n    }\n    for (var i = 0; i < js_urls.length; i++) {\n      var url = js_urls[i];\n      if (skip.indexOf(url) !== -1 || existing_scripts.indexOf(url) !== -1) {\n\tif (!window.requirejs) {\n\t  on_load();\n\t}\n\tcontinue;\n      }\n      var element = document.createElement('script');\n      element.onload = on_load;\n      element.onerror = on_error;\n      element.async = false;\n      element.src = url;\n      console.debug(\"Bokeh: injecting script tag for BokehJS library: \", url);\n      document.head.appendChild(element);\n    }\n    for (var i = 0; i < js_modules.length; i++) {\n      var url = js_modules[i];\n      if (skip.indexOf(url) !== -1 || existing_scripts.indexOf(url) !== -1) {\n\tif (!window.requirejs) {\n\t  on_load();\n\t}\n\tcontinue;\n      }\n      var element = document.createElement('script');\n      element.onload = on_load;\n      element.onerror = on_error;\n      element.async = false;\n      element.src = url;\n      element.type = \"module\";\n      console.debug(\"Bokeh: injecting script tag for BokehJS library: \", url);\n      document.head.appendChild(element);\n    }\n    for (const name in js_exports) {\n      var url = js_exports[name];\n      if (skip.indexOf(url) >= 0 || root[name] != null) {\n\tif (!window.requirejs) {\n\t  on_load();\n\t}\n\tcontinue;\n      }\n      var element = document.createElement('script');\n      element.onerror = on_error;\n      element.async = false;\n      element.type = \"module\";\n      console.debug(\"Bokeh: injecting script tag for BokehJS library: \", url);\n      element.textContent = `\n      import ${name} from \"${url}\"\n      window.${name} = ${name}\n      window._bokeh_on_load()\n      `\n      document.head.appendChild(element);\n    }\n    if (!js_urls.length && !js_modules.length) {\n      on_load()\n    }\n  };\n\n  function inject_raw_css(css) {\n    const element = document.createElement(\"style\");\n    element.appendChild(document.createTextNode(css));\n    document.body.appendChild(element);\n  }\n\n  var js_urls = [\"https://cdn.bokeh.org/bokeh/release/bokeh-3.3.4.min.js\", \"https://cdn.bokeh.org/bokeh/release/bokeh-gl-3.3.4.min.js\", \"https://cdn.bokeh.org/bokeh/release/bokeh-widgets-3.3.4.min.js\", \"https://cdn.bokeh.org/bokeh/release/bokeh-tables-3.3.4.min.js\", \"https://cdn.holoviz.org/panel/1.3.8/dist/panel.min.js\"];\n  var js_modules = [];\n  var js_exports = {};\n  var css_urls = [];\n  var inline_js = [    function(Bokeh) {\n      Bokeh.set_log_level(\"info\");\n    },\nfunction(Bokeh) {} // ensure no trailing comma for IE\n  ];\n\n  function run_inline_js() {\n    if ((root.Bokeh !== undefined) || (force === true)) {\n      for (var i = 0; i < inline_js.length; i++) {\n\ttry {\n          inline_js[i].call(root, root.Bokeh);\n\t} catch(e) {\n\t  if (!reloading) {\n\t    throw e;\n\t  }\n\t}\n      }\n      // Cache old bokeh versions\n      if (Bokeh != undefined && !reloading) {\n\tvar NewBokeh = root.Bokeh;\n\tif (Bokeh.versions === undefined) {\n\t  Bokeh.versions = new Map();\n\t}\n\tif (NewBokeh.version !== Bokeh.version) {\n\t  Bokeh.versions.set(NewBokeh.version, NewBokeh)\n\t}\n\troot.Bokeh = Bokeh;\n      }} else if (Date.now() < root._bokeh_timeout) {\n      setTimeout(run_inline_js, 100);\n    } else if (!root._bokeh_failed_load) {\n      console.log(\"Bokeh: BokehJS failed to load within specified timeout.\");\n      root._bokeh_failed_load = true;\n    }\n    root._bokeh_is_initializing = false\n  }\n\n  function load_or_wait() {\n    // Implement a backoff loop that tries to ensure we do not load multiple\n    // versions of Bokeh and its dependencies at the same time.\n    // In recent versions we use the root._bokeh_is_initializing flag\n    // to determine whether there is an ongoing attempt to initialize\n    // bokeh, however for backward compatibility we also try to ensure\n    // that we do not start loading a newer (Panel>=1.0 and Bokeh>3) version\n    // before older versions are fully initialized.\n    if (root._bokeh_is_initializing && Date.now() > root._bokeh_timeout) {\n      root._bokeh_is_initializing = false;\n      root._bokeh_onload_callbacks = undefined;\n      console.log(\"Bokeh: BokehJS was loaded multiple times but one version failed to initialize.\");\n      load_or_wait();\n    } else if (root._bokeh_is_initializing || (typeof root._bokeh_is_initializing === \"undefined\" && root._bokeh_onload_callbacks !== undefined)) {\n      setTimeout(load_or_wait, 100);\n    } else {\n      root._bokeh_is_initializing = true\n      root._bokeh_onload_callbacks = []\n      var bokeh_loaded = Bokeh != null && (Bokeh.version === py_version || (Bokeh.versions !== undefined && Bokeh.versions.has(py_version)));\n      if (!reloading && !bokeh_loaded) {\n\troot.Bokeh = undefined;\n      }\n      load_libs(css_urls, js_urls, js_modules, js_exports, function() {\n\tconsole.debug(\"Bokeh: BokehJS plotting callback run at\", now());\n\trun_inline_js();\n      });\n    }\n  }\n  // Give older versions of the autoload script a head-start to ensure\n  // they initialize before we start loading newer version.\n  setTimeout(load_or_wait, 100)\n}(window));",
      "application/vnd.holoviews_load.v0+json": ""
     },
     "metadata": {},
     "output_type": "display_data"
    },
    {
     "data": {
      "application/javascript": "\nif ((window.PyViz === undefined) || (window.PyViz instanceof HTMLElement)) {\n  window.PyViz = {comms: {}, comm_status:{}, kernels:{}, receivers: {}, plot_index: []}\n}\n\n\n    function JupyterCommManager() {\n    }\n\n    JupyterCommManager.prototype.register_target = function(plot_id, comm_id, msg_handler) {\n      if (window.comm_manager || ((window.Jupyter !== undefined) && (Jupyter.notebook.kernel != null))) {\n        var comm_manager = window.comm_manager || Jupyter.notebook.kernel.comm_manager;\n        comm_manager.register_target(comm_id, function(comm) {\n          comm.on_msg(msg_handler);\n        });\n      } else if ((plot_id in window.PyViz.kernels) && (window.PyViz.kernels[plot_id])) {\n        window.PyViz.kernels[plot_id].registerCommTarget(comm_id, function(comm) {\n          comm.onMsg = msg_handler;\n        });\n      } else if (typeof google != 'undefined' && google.colab.kernel != null) {\n        google.colab.kernel.comms.registerTarget(comm_id, (comm) => {\n          var messages = comm.messages[Symbol.asyncIterator]();\n          function processIteratorResult(result) {\n            var message = result.value;\n            console.log(message)\n            var content = {data: message.data, comm_id};\n            var buffers = []\n            for (var buffer of message.buffers || []) {\n              buffers.push(new DataView(buffer))\n            }\n            var metadata = message.metadata || {};\n            var msg = {content, buffers, metadata}\n            msg_handler(msg);\n            return messages.next().then(processIteratorResult);\n          }\n          return messages.next().then(processIteratorResult);\n        })\n      }\n    }\n\n    JupyterCommManager.prototype.get_client_comm = function(plot_id, comm_id, msg_handler) {\n      if (comm_id in window.PyViz.comms) {\n        return window.PyViz.comms[comm_id];\n      } else if (window.comm_manager || ((window.Jupyter !== undefined) && (Jupyter.notebook.kernel != null))) {\n        var comm_manager = window.comm_manager || Jupyter.notebook.kernel.comm_manager;\n        var comm = comm_manager.new_comm(comm_id, {}, {}, {}, comm_id);\n        if (msg_handler) {\n          comm.on_msg(msg_handler);\n        }\n      } else if ((plot_id in window.PyViz.kernels) && (window.PyViz.kernels[plot_id])) {\n        var comm = window.PyViz.kernels[plot_id].connectToComm(comm_id);\n        comm.open();\n        if (msg_handler) {\n          comm.onMsg = msg_handler;\n        }\n      } else if (typeof google != 'undefined' && google.colab.kernel != null) {\n        var comm_promise = google.colab.kernel.comms.open(comm_id)\n        comm_promise.then((comm) => {\n          window.PyViz.comms[comm_id] = comm;\n          if (msg_handler) {\n            var messages = comm.messages[Symbol.asyncIterator]();\n            function processIteratorResult(result) {\n              var message = result.value;\n              var content = {data: message.data};\n              var metadata = message.metadata || {comm_id};\n              var msg = {content, metadata}\n              msg_handler(msg);\n              return messages.next().then(processIteratorResult);\n            }\n            return messages.next().then(processIteratorResult);\n          }\n        }) \n        var sendClosure = (data, metadata, buffers, disposeOnDone) => {\n          return comm_promise.then((comm) => {\n            comm.send(data, metadata, buffers, disposeOnDone);\n          });\n        };\n        var comm = {\n          send: sendClosure\n        };\n      }\n      window.PyViz.comms[comm_id] = comm;\n      return comm;\n    }\n    window.PyViz.comm_manager = new JupyterCommManager();\n    \n\n\nvar JS_MIME_TYPE = 'application/javascript';\nvar HTML_MIME_TYPE = 'text/html';\nvar EXEC_MIME_TYPE = 'application/vnd.holoviews_exec.v0+json';\nvar CLASS_NAME = 'output';\n\n/**\n * Render data to the DOM node\n */\nfunction render(props, node) {\n  var div = document.createElement(\"div\");\n  var script = document.createElement(\"script\");\n  node.appendChild(div);\n  node.appendChild(script);\n}\n\n/**\n * Handle when a new output is added\n */\nfunction handle_add_output(event, handle) {\n  var output_area = handle.output_area;\n  var output = handle.output;\n  if ((output.data == undefined) || (!output.data.hasOwnProperty(EXEC_MIME_TYPE))) {\n    return\n  }\n  var id = output.metadata[EXEC_MIME_TYPE][\"id\"];\n  var toinsert = output_area.element.find(\".\" + CLASS_NAME.split(' ')[0]);\n  if (id !== undefined) {\n    var nchildren = toinsert.length;\n    var html_node = toinsert[nchildren-1].children[0];\n    html_node.innerHTML = output.data[HTML_MIME_TYPE];\n    var scripts = [];\n    var nodelist = html_node.querySelectorAll(\"script\");\n    for (var i in nodelist) {\n      if (nodelist.hasOwnProperty(i)) {\n        scripts.push(nodelist[i])\n      }\n    }\n\n    scripts.forEach( function (oldScript) {\n      var newScript = document.createElement(\"script\");\n      var attrs = [];\n      var nodemap = oldScript.attributes;\n      for (var j in nodemap) {\n        if (nodemap.hasOwnProperty(j)) {\n          attrs.push(nodemap[j])\n        }\n      }\n      attrs.forEach(function(attr) { newScript.setAttribute(attr.name, attr.value) });\n      newScript.appendChild(document.createTextNode(oldScript.innerHTML));\n      oldScript.parentNode.replaceChild(newScript, oldScript);\n    });\n    if (JS_MIME_TYPE in output.data) {\n      toinsert[nchildren-1].children[1].textContent = output.data[JS_MIME_TYPE];\n    }\n    output_area._hv_plot_id = id;\n    if ((window.Bokeh !== undefined) && (id in Bokeh.index)) {\n      window.PyViz.plot_index[id] = Bokeh.index[id];\n    } else {\n      window.PyViz.plot_index[id] = null;\n    }\n  } else if (output.metadata[EXEC_MIME_TYPE][\"server_id\"] !== undefined) {\n    var bk_div = document.createElement(\"div\");\n    bk_div.innerHTML = output.data[HTML_MIME_TYPE];\n    var script_attrs = bk_div.children[0].attributes;\n    for (var i = 0; i < script_attrs.length; i++) {\n      toinsert[toinsert.length - 1].childNodes[1].setAttribute(script_attrs[i].name, script_attrs[i].value);\n    }\n    // store reference to server id on output_area\n    output_area._bokeh_server_id = output.metadata[EXEC_MIME_TYPE][\"server_id\"];\n  }\n}\n\n/**\n * Handle when an output is cleared or removed\n */\nfunction handle_clear_output(event, handle) {\n  var id = handle.cell.output_area._hv_plot_id;\n  var server_id = handle.cell.output_area._bokeh_server_id;\n  if (((id === undefined) || !(id in PyViz.plot_index)) && (server_id !== undefined)) { return; }\n  var comm = window.PyViz.comm_manager.get_client_comm(\"hv-extension-comm\", \"hv-extension-comm\", function () {});\n  if (server_id !== null) {\n    comm.send({event_type: 'server_delete', 'id': server_id});\n    return;\n  } else if (comm !== null) {\n    comm.send({event_type: 'delete', 'id': id});\n  }\n  delete PyViz.plot_index[id];\n  if ((window.Bokeh !== undefined) & (id in window.Bokeh.index)) {\n    var doc = window.Bokeh.index[id].model.document\n    doc.clear();\n    const i = window.Bokeh.documents.indexOf(doc);\n    if (i > -1) {\n      window.Bokeh.documents.splice(i, 1);\n    }\n  }\n}\n\n/**\n * Handle kernel restart event\n */\nfunction handle_kernel_cleanup(event, handle) {\n  delete PyViz.comms[\"hv-extension-comm\"];\n  window.PyViz.plot_index = {}\n}\n\n/**\n * Handle update_display_data messages\n */\nfunction handle_update_output(event, handle) {\n  handle_clear_output(event, {cell: {output_area: handle.output_area}})\n  handle_add_output(event, handle)\n}\n\nfunction register_renderer(events, OutputArea) {\n  function append_mime(data, metadata, element) {\n    // create a DOM node to render to\n    var toinsert = this.create_output_subarea(\n    metadata,\n    CLASS_NAME,\n    EXEC_MIME_TYPE\n    );\n    this.keyboard_manager.register_events(toinsert);\n    // Render to node\n    var props = {data: data, metadata: metadata[EXEC_MIME_TYPE]};\n    render(props, toinsert[0]);\n    element.append(toinsert);\n    return toinsert\n  }\n\n  events.on('output_added.OutputArea', handle_add_output);\n  events.on('output_updated.OutputArea', handle_update_output);\n  events.on('clear_output.CodeCell', handle_clear_output);\n  events.on('delete.Cell', handle_clear_output);\n  events.on('kernel_ready.Kernel', handle_kernel_cleanup);\n\n  OutputArea.prototype.register_mime_type(EXEC_MIME_TYPE, append_mime, {\n    safe: true,\n    index: 0\n  });\n}\n\nif (window.Jupyter !== undefined) {\n  try {\n    var events = require('base/js/events');\n    var OutputArea = require('notebook/js/outputarea').OutputArea;\n    if (OutputArea.prototype.mime_types().indexOf(EXEC_MIME_TYPE) == -1) {\n      register_renderer(events, OutputArea);\n    }\n  } catch(err) {\n  }\n}\n",
      "application/vnd.holoviews_load.v0+json": ""
     },
     "metadata": {},
     "output_type": "display_data"
    },
    {
     "data": {
      "text/html": [
       "<style>*[data-root-id],\n",
       "*[data-root-id] > * {\n",
       "  box-sizing: border-box;\n",
       "  font-family: var(--jp-ui-font-family);\n",
       "  font-size: var(--jp-ui-font-size1);\n",
       "  color: var(--vscode-editor-foreground, var(--jp-ui-font-color1));\n",
       "}\n",
       "\n",
       "/* Override VSCode background color */\n",
       ".cell-output-ipywidget-background:has(\n",
       "    > .cell-output-ipywidget-background > .lm-Widget > *[data-root-id]\n",
       "  ),\n",
       ".cell-output-ipywidget-background:has(> .lm-Widget > *[data-root-id]) {\n",
       "  background-color: transparent !important;\n",
       "}\n",
       "</style>"
      ]
     },
     "metadata": {},
     "output_type": "display_data"
    },
    {
     "data": {
      "application/vnd.holoviews_exec.v0+json": "",
      "text/html": [
       "<div id='p1002'>\n",
       "  <div id=\"cdbdaef7-a615-44fa-8958-0dcae31c627c\" data-root-id=\"p1002\" style=\"display: contents;\"></div>\n",
       "</div>\n",
       "<script type=\"application/javascript\">(function(root) {\n",
       "  var docs_json = {\"bf6dd78a-4cd2-4339-a724-7a905e3f94e9\":{\"version\":\"3.3.4\",\"title\":\"Bokeh Application\",\"roots\":[{\"type\":\"object\",\"name\":\"panel.models.browser.BrowserInfo\",\"id\":\"p1002\"},{\"type\":\"object\",\"name\":\"panel.models.comm_manager.CommManager\",\"id\":\"p1003\",\"attributes\":{\"plot_id\":\"p1002\",\"comm_id\":\"2e9893a82e694c879a19e284636e2645\",\"client_comm_id\":\"f4ca8f255cbd41bb8bf2b9558b48904e\"}}],\"defs\":[{\"type\":\"model\",\"name\":\"ReactiveHTML1\"},{\"type\":\"model\",\"name\":\"FlexBox1\",\"properties\":[{\"name\":\"align_content\",\"kind\":\"Any\",\"default\":\"flex-start\"},{\"name\":\"align_items\",\"kind\":\"Any\",\"default\":\"flex-start\"},{\"name\":\"flex_direction\",\"kind\":\"Any\",\"default\":\"row\"},{\"name\":\"flex_wrap\",\"kind\":\"Any\",\"default\":\"wrap\"},{\"name\":\"justify_content\",\"kind\":\"Any\",\"default\":\"flex-start\"}]},{\"type\":\"model\",\"name\":\"FloatPanel1\",\"properties\":[{\"name\":\"config\",\"kind\":\"Any\",\"default\":{\"type\":\"map\"}},{\"name\":\"contained\",\"kind\":\"Any\",\"default\":true},{\"name\":\"position\",\"kind\":\"Any\",\"default\":\"right-top\"},{\"name\":\"offsetx\",\"kind\":\"Any\",\"default\":null},{\"name\":\"offsety\",\"kind\":\"Any\",\"default\":null},{\"name\":\"theme\",\"kind\":\"Any\",\"default\":\"primary\"},{\"name\":\"status\",\"kind\":\"Any\",\"default\":\"normalized\"}]},{\"type\":\"model\",\"name\":\"GridStack1\",\"properties\":[{\"name\":\"mode\",\"kind\":\"Any\",\"default\":\"warn\"},{\"name\":\"ncols\",\"kind\":\"Any\",\"default\":null},{\"name\":\"nrows\",\"kind\":\"Any\",\"default\":null},{\"name\":\"allow_resize\",\"kind\":\"Any\",\"default\":true},{\"name\":\"allow_drag\",\"kind\":\"Any\",\"default\":true},{\"name\":\"state\",\"kind\":\"Any\",\"default\":[]}]},{\"type\":\"model\",\"name\":\"drag1\",\"properties\":[{\"name\":\"slider_width\",\"kind\":\"Any\",\"default\":5},{\"name\":\"slider_color\",\"kind\":\"Any\",\"default\":\"black\"},{\"name\":\"value\",\"kind\":\"Any\",\"default\":50}]},{\"type\":\"model\",\"name\":\"click1\",\"properties\":[{\"name\":\"terminal_output\",\"kind\":\"Any\",\"default\":\"\"},{\"name\":\"debug_name\",\"kind\":\"Any\",\"default\":\"\"},{\"name\":\"clears\",\"kind\":\"Any\",\"default\":0}]},{\"type\":\"model\",\"name\":\"copy_to_clipboard1\",\"properties\":[{\"name\":\"fill\",\"kind\":\"Any\",\"default\":\"none\"},{\"name\":\"value\",\"kind\":\"Any\",\"default\":null}]},{\"type\":\"model\",\"name\":\"FastWrapper1\",\"properties\":[{\"name\":\"object\",\"kind\":\"Any\",\"default\":null},{\"name\":\"style\",\"kind\":\"Any\",\"default\":null}]},{\"type\":\"model\",\"name\":\"NotificationAreaBase1\",\"properties\":[{\"name\":\"js_events\",\"kind\":\"Any\",\"default\":{\"type\":\"map\"}},{\"name\":\"position\",\"kind\":\"Any\",\"default\":\"bottom-right\"},{\"name\":\"_clear\",\"kind\":\"Any\",\"default\":0}]},{\"type\":\"model\",\"name\":\"NotificationArea1\",\"properties\":[{\"name\":\"js_events\",\"kind\":\"Any\",\"default\":{\"type\":\"map\"}},{\"name\":\"notifications\",\"kind\":\"Any\",\"default\":[]},{\"name\":\"position\",\"kind\":\"Any\",\"default\":\"bottom-right\"},{\"name\":\"_clear\",\"kind\":\"Any\",\"default\":0},{\"name\":\"types\",\"kind\":\"Any\",\"default\":[{\"type\":\"map\",\"entries\":[[\"type\",\"warning\"],[\"background\",\"#ffc107\"],[\"icon\",{\"type\":\"map\",\"entries\":[[\"className\",\"fas fa-exclamation-triangle\"],[\"tagName\",\"i\"],[\"color\",\"white\"]]}]]},{\"type\":\"map\",\"entries\":[[\"type\",\"info\"],[\"background\",\"#007bff\"],[\"icon\",{\"type\":\"map\",\"entries\":[[\"className\",\"fas fa-info-circle\"],[\"tagName\",\"i\"],[\"color\",\"white\"]]}]]}]}]},{\"type\":\"model\",\"name\":\"Notification\",\"properties\":[{\"name\":\"background\",\"kind\":\"Any\",\"default\":null},{\"name\":\"duration\",\"kind\":\"Any\",\"default\":3000},{\"name\":\"icon\",\"kind\":\"Any\",\"default\":null},{\"name\":\"message\",\"kind\":\"Any\",\"default\":\"\"},{\"name\":\"notification_type\",\"kind\":\"Any\",\"default\":null},{\"name\":\"_destroyed\",\"kind\":\"Any\",\"default\":false}]},{\"type\":\"model\",\"name\":\"TemplateActions1\",\"properties\":[{\"name\":\"open_modal\",\"kind\":\"Any\",\"default\":0},{\"name\":\"close_modal\",\"kind\":\"Any\",\"default\":0}]},{\"type\":\"model\",\"name\":\"BootstrapTemplateActions1\",\"properties\":[{\"name\":\"open_modal\",\"kind\":\"Any\",\"default\":0},{\"name\":\"close_modal\",\"kind\":\"Any\",\"default\":0}]},{\"type\":\"model\",\"name\":\"MaterialTemplateActions1\",\"properties\":[{\"name\":\"open_modal\",\"kind\":\"Any\",\"default\":0},{\"name\":\"close_modal\",\"kind\":\"Any\",\"default\":0}]}]}};\n",
       "  var render_items = [{\"docid\":\"bf6dd78a-4cd2-4339-a724-7a905e3f94e9\",\"roots\":{\"p1002\":\"cdbdaef7-a615-44fa-8958-0dcae31c627c\"},\"root_ids\":[\"p1002\"]}];\n",
       "  var docs = Object.values(docs_json)\n",
       "  if (!docs) {\n",
       "    return\n",
       "  }\n",
       "  const py_version = docs[0].version.replace('rc', '-rc.').replace('.dev', '-dev.')\n",
       "  function embed_document(root) {\n",
       "    var Bokeh = get_bokeh(root)\n",
       "    Bokeh.embed.embed_items_notebook(docs_json, render_items);\n",
       "    for (const render_item of render_items) {\n",
       "      for (const root_id of render_item.root_ids) {\n",
       "\tconst id_el = document.getElementById(root_id)\n",
       "\tif (id_el.children.length && (id_el.children[0].className === 'bk-root')) {\n",
       "\t  const root_el = id_el.children[0]\n",
       "\t  root_el.id = root_el.id + '-rendered'\n",
       "\t}\n",
       "      }\n",
       "    }\n",
       "  }\n",
       "  function get_bokeh(root) {\n",
       "    if (root.Bokeh === undefined) {\n",
       "      return null\n",
       "    } else if (root.Bokeh.version !== py_version) {\n",
       "      if (root.Bokeh.versions === undefined || !root.Bokeh.versions.has(py_version)) {\n",
       "\treturn null\n",
       "      }\n",
       "      return root.Bokeh.versions.get(py_version);\n",
       "    } else if (root.Bokeh.version === py_version) {\n",
       "      return root.Bokeh\n",
       "    }\n",
       "    return null\n",
       "  }\n",
       "  function is_loaded(root) {\n",
       "    var Bokeh = get_bokeh(root)\n",
       "    return (Bokeh != null && Bokeh.Panel !== undefined)\n",
       "  }\n",
       "  if (is_loaded(root)) {\n",
       "    embed_document(root);\n",
       "  } else {\n",
       "    var attempts = 0;\n",
       "    var timer = setInterval(function(root) {\n",
       "      if (is_loaded(root)) {\n",
       "        clearInterval(timer);\n",
       "        embed_document(root);\n",
       "      } else if (document.readyState == \"complete\") {\n",
       "        attempts++;\n",
       "        if (attempts > 200) {\n",
       "          clearInterval(timer);\n",
       "\t  var Bokeh = get_bokeh(root)\n",
       "\t  if (Bokeh == null || Bokeh.Panel == null) {\n",
       "            console.warn(\"Panel: ERROR: Unable to run Panel code because Bokeh or Panel library is missing\");\n",
       "\t  } else {\n",
       "\t    console.warn(\"Panel: WARNING: Attempting to render but not all required libraries could be resolved.\")\n",
       "\t    embed_document(root)\n",
       "\t  }\n",
       "        }\n",
       "      }\n",
       "    }, 25, root)\n",
       "  }\n",
       "})(window);</script>"
      ]
     },
     "metadata": {
      "application/vnd.holoviews_exec.v0+json": {
       "id": "p1002"
      }
     },
     "output_type": "display_data"
    },
    {
     "data": {
      "application/javascript": "(function(root) {\n  function now() {\n    return new Date();\n  }\n\n  var force = true;\n  var py_version = '3.3.4'.replace('rc', '-rc.').replace('.dev', '-dev.');\n  var reloading = true;\n  var Bokeh = root.Bokeh;\n\n  if (typeof (root._bokeh_timeout) === \"undefined\" || force) {\n    root._bokeh_timeout = Date.now() + 5000;\n    root._bokeh_failed_load = false;\n  }\n\n  function run_callbacks() {\n    try {\n      root._bokeh_onload_callbacks.forEach(function(callback) {\n        if (callback != null)\n          callback();\n      });\n    } finally {\n      delete root._bokeh_onload_callbacks;\n    }\n    console.debug(\"Bokeh: all callbacks have finished\");\n  }\n\n  function load_libs(css_urls, js_urls, js_modules, js_exports, callback) {\n    if (css_urls == null) css_urls = [];\n    if (js_urls == null) js_urls = [];\n    if (js_modules == null) js_modules = [];\n    if (js_exports == null) js_exports = {};\n\n    root._bokeh_onload_callbacks.push(callback);\n\n    if (root._bokeh_is_loading > 0) {\n      console.debug(\"Bokeh: BokehJS is being loaded, scheduling callback at\", now());\n      return null;\n    }\n    if (js_urls.length === 0 && js_modules.length === 0 && Object.keys(js_exports).length === 0) {\n      run_callbacks();\n      return null;\n    }\n    if (!reloading) {\n      console.debug(\"Bokeh: BokehJS not loaded, scheduling load and callback at\", now());\n    }\n\n    function on_load() {\n      root._bokeh_is_loading--;\n      if (root._bokeh_is_loading === 0) {\n        console.debug(\"Bokeh: all BokehJS libraries/stylesheets loaded\");\n        run_callbacks()\n      }\n    }\n    window._bokeh_on_load = on_load\n\n    function on_error() {\n      console.error(\"failed to load \" + url);\n    }\n\n    var skip = [];\n    if (window.requirejs) {\n      window.requirejs.config({'packages': {}, 'paths': {'jspanel': 'https://cdn.jsdelivr.net/npm/jspanel4@4.12.0/dist/jspanel', 'jspanel-modal': 'https://cdn.jsdelivr.net/npm/jspanel4@4.12.0/dist/extensions/modal/jspanel.modal', 'jspanel-tooltip': 'https://cdn.jsdelivr.net/npm/jspanel4@4.12.0/dist/extensions/tooltip/jspanel.tooltip', 'jspanel-hint': 'https://cdn.jsdelivr.net/npm/jspanel4@4.12.0/dist/extensions/hint/jspanel.hint', 'jspanel-layout': 'https://cdn.jsdelivr.net/npm/jspanel4@4.12.0/dist/extensions/layout/jspanel.layout', 'jspanel-contextmenu': 'https://cdn.jsdelivr.net/npm/jspanel4@4.12.0/dist/extensions/contextmenu/jspanel.contextmenu', 'jspanel-dock': 'https://cdn.jsdelivr.net/npm/jspanel4@4.12.0/dist/extensions/dock/jspanel.dock', 'gridstack': 'https://cdn.jsdelivr.net/npm/gridstack@7.2.3/dist/gridstack-all', 'notyf': 'https://cdn.jsdelivr.net/npm/notyf@3/notyf.min'}, 'shim': {'jspanel': {'exports': 'jsPanel'}, 'gridstack': {'exports': 'GridStack'}}});\n      require([\"jspanel\"], function(jsPanel) {\n\twindow.jsPanel = jsPanel\n\ton_load()\n      })\n      require([\"jspanel-modal\"], function() {\n\ton_load()\n      })\n      require([\"jspanel-tooltip\"], function() {\n\ton_load()\n      })\n      require([\"jspanel-hint\"], function() {\n\ton_load()\n      })\n      require([\"jspanel-layout\"], function() {\n\ton_load()\n      })\n      require([\"jspanel-contextmenu\"], function() {\n\ton_load()\n      })\n      require([\"jspanel-dock\"], function() {\n\ton_load()\n      })\n      require([\"gridstack\"], function(GridStack) {\n\twindow.GridStack = GridStack\n\ton_load()\n      })\n      require([\"notyf\"], function() {\n\ton_load()\n      })\n      root._bokeh_is_loading = css_urls.length + 9;\n    } else {\n      root._bokeh_is_loading = css_urls.length + js_urls.length + js_modules.length + Object.keys(js_exports).length;\n    }\n\n    var existing_stylesheets = []\n    var links = document.getElementsByTagName('link')\n    for (var i = 0; i < links.length; i++) {\n      var link = links[i]\n      if (link.href != null) {\n\texisting_stylesheets.push(link.href)\n      }\n    }\n    for (var i = 0; i < css_urls.length; i++) {\n      var url = css_urls[i];\n      if (existing_stylesheets.indexOf(url) !== -1) {\n\ton_load()\n\tcontinue;\n      }\n      const element = document.createElement(\"link\");\n      element.onload = on_load;\n      element.onerror = on_error;\n      element.rel = \"stylesheet\";\n      element.type = \"text/css\";\n      element.href = url;\n      console.debug(\"Bokeh: injecting link tag for BokehJS stylesheet: \", url);\n      document.body.appendChild(element);\n    }    if (((window['jsPanel'] !== undefined) && (!(window['jsPanel'] instanceof HTMLElement))) || window.requirejs) {\n      var urls = ['https://cdn.holoviz.org/panel/1.3.8/dist/bundled/floatpanel/jspanel4@4.12.0/dist/jspanel.js', 'https://cdn.holoviz.org/panel/1.3.8/dist/bundled/floatpanel/jspanel4@4.12.0/dist/extensions/modal/jspanel.modal.js', 'https://cdn.holoviz.org/panel/1.3.8/dist/bundled/floatpanel/jspanel4@4.12.0/dist/extensions/tooltip/jspanel.tooltip.js', 'https://cdn.holoviz.org/panel/1.3.8/dist/bundled/floatpanel/jspanel4@4.12.0/dist/extensions/hint/jspanel.hint.js', 'https://cdn.holoviz.org/panel/1.3.8/dist/bundled/floatpanel/jspanel4@4.12.0/dist/extensions/layout/jspanel.layout.js', 'https://cdn.holoviz.org/panel/1.3.8/dist/bundled/floatpanel/jspanel4@4.12.0/dist/extensions/contextmenu/jspanel.contextmenu.js', 'https://cdn.holoviz.org/panel/1.3.8/dist/bundled/floatpanel/jspanel4@4.12.0/dist/extensions/dock/jspanel.dock.js'];\n      for (var i = 0; i < urls.length; i++) {\n        skip.push(urls[i])\n      }\n    }    if (((window['GridStack'] !== undefined) && (!(window['GridStack'] instanceof HTMLElement))) || window.requirejs) {\n      var urls = ['https://cdn.holoviz.org/panel/1.3.8/dist/bundled/gridstack/gridstack@7.2.3/dist/gridstack-all.js'];\n      for (var i = 0; i < urls.length; i++) {\n        skip.push(urls[i])\n      }\n    }    if (((window['Notyf'] !== undefined) && (!(window['Notyf'] instanceof HTMLElement))) || window.requirejs) {\n      var urls = ['https://cdn.holoviz.org/panel/1.3.8/dist/bundled/notificationarea/notyf@3/notyf.min.js'];\n      for (var i = 0; i < urls.length; i++) {\n        skip.push(urls[i])\n      }\n    }    var existing_scripts = []\n    var scripts = document.getElementsByTagName('script')\n    for (var i = 0; i < scripts.length; i++) {\n      var script = scripts[i]\n      if (script.src != null) {\n\texisting_scripts.push(script.src)\n      }\n    }\n    for (var i = 0; i < js_urls.length; i++) {\n      var url = js_urls[i];\n      if (skip.indexOf(url) !== -1 || existing_scripts.indexOf(url) !== -1) {\n\tif (!window.requirejs) {\n\t  on_load();\n\t}\n\tcontinue;\n      }\n      var element = document.createElement('script');\n      element.onload = on_load;\n      element.onerror = on_error;\n      element.async = false;\n      element.src = url;\n      console.debug(\"Bokeh: injecting script tag for BokehJS library: \", url);\n      document.head.appendChild(element);\n    }\n    for (var i = 0; i < js_modules.length; i++) {\n      var url = js_modules[i];\n      if (skip.indexOf(url) !== -1 || existing_scripts.indexOf(url) !== -1) {\n\tif (!window.requirejs) {\n\t  on_load();\n\t}\n\tcontinue;\n      }\n      var element = document.createElement('script');\n      element.onload = on_load;\n      element.onerror = on_error;\n      element.async = false;\n      element.src = url;\n      element.type = \"module\";\n      console.debug(\"Bokeh: injecting script tag for BokehJS library: \", url);\n      document.head.appendChild(element);\n    }\n    for (const name in js_exports) {\n      var url = js_exports[name];\n      if (skip.indexOf(url) >= 0 || root[name] != null) {\n\tif (!window.requirejs) {\n\t  on_load();\n\t}\n\tcontinue;\n      }\n      var element = document.createElement('script');\n      element.onerror = on_error;\n      element.async = false;\n      element.type = \"module\";\n      console.debug(\"Bokeh: injecting script tag for BokehJS library: \", url);\n      element.textContent = `\n      import ${name} from \"${url}\"\n      window.${name} = ${name}\n      window._bokeh_on_load()\n      `\n      document.head.appendChild(element);\n    }\n    if (!js_urls.length && !js_modules.length) {\n      on_load()\n    }\n  };\n\n  function inject_raw_css(css) {\n    const element = document.createElement(\"style\");\n    element.appendChild(document.createTextNode(css));\n    document.body.appendChild(element);\n  }\n\n  var js_urls = [];\n  var js_modules = [];\n  var js_exports = {};\n  var css_urls = [];\n  var inline_js = [    function(Bokeh) {\n      Bokeh.set_log_level(\"info\");\n    },\nfunction(Bokeh) {} // ensure no trailing comma for IE\n  ];\n\n  function run_inline_js() {\n    if ((root.Bokeh !== undefined) || (force === true)) {\n      for (var i = 0; i < inline_js.length; i++) {\n\ttry {\n          inline_js[i].call(root, root.Bokeh);\n\t} catch(e) {\n\t  if (!reloading) {\n\t    throw e;\n\t  }\n\t}\n      }\n      // Cache old bokeh versions\n      if (Bokeh != undefined && !reloading) {\n\tvar NewBokeh = root.Bokeh;\n\tif (Bokeh.versions === undefined) {\n\t  Bokeh.versions = new Map();\n\t}\n\tif (NewBokeh.version !== Bokeh.version) {\n\t  Bokeh.versions.set(NewBokeh.version, NewBokeh)\n\t}\n\troot.Bokeh = Bokeh;\n      }} else if (Date.now() < root._bokeh_timeout) {\n      setTimeout(run_inline_js, 100);\n    } else if (!root._bokeh_failed_load) {\n      console.log(\"Bokeh: BokehJS failed to load within specified timeout.\");\n      root._bokeh_failed_load = true;\n    }\n    root._bokeh_is_initializing = false\n  }\n\n  function load_or_wait() {\n    // Implement a backoff loop that tries to ensure we do not load multiple\n    // versions of Bokeh and its dependencies at the same time.\n    // In recent versions we use the root._bokeh_is_initializing flag\n    // to determine whether there is an ongoing attempt to initialize\n    // bokeh, however for backward compatibility we also try to ensure\n    // that we do not start loading a newer (Panel>=1.0 and Bokeh>3) version\n    // before older versions are fully initialized.\n    if (root._bokeh_is_initializing && Date.now() > root._bokeh_timeout) {\n      root._bokeh_is_initializing = false;\n      root._bokeh_onload_callbacks = undefined;\n      console.log(\"Bokeh: BokehJS was loaded multiple times but one version failed to initialize.\");\n      load_or_wait();\n    } else if (root._bokeh_is_initializing || (typeof root._bokeh_is_initializing === \"undefined\" && root._bokeh_onload_callbacks !== undefined)) {\n      setTimeout(load_or_wait, 100);\n    } else {\n      root._bokeh_is_initializing = true\n      root._bokeh_onload_callbacks = []\n      var bokeh_loaded = Bokeh != null && (Bokeh.version === py_version || (Bokeh.versions !== undefined && Bokeh.versions.has(py_version)));\n      if (!reloading && !bokeh_loaded) {\n\troot.Bokeh = undefined;\n      }\n      load_libs(css_urls, js_urls, js_modules, js_exports, function() {\n\tconsole.debug(\"Bokeh: BokehJS plotting callback run at\", now());\n\trun_inline_js();\n      });\n    }\n  }\n  // Give older versions of the autoload script a head-start to ensure\n  // they initialize before we start loading newer version.\n  setTimeout(load_or_wait, 100)\n}(window));",
      "application/vnd.holoviews_load.v0+json": ""
     },
     "metadata": {},
     "output_type": "display_data"
    },
    {
     "data": {
      "application/javascript": "\nif ((window.PyViz === undefined) || (window.PyViz instanceof HTMLElement)) {\n  window.PyViz = {comms: {}, comm_status:{}, kernels:{}, receivers: {}, plot_index: []}\n}\n\n\n    function JupyterCommManager() {\n    }\n\n    JupyterCommManager.prototype.register_target = function(plot_id, comm_id, msg_handler) {\n      if (window.comm_manager || ((window.Jupyter !== undefined) && (Jupyter.notebook.kernel != null))) {\n        var comm_manager = window.comm_manager || Jupyter.notebook.kernel.comm_manager;\n        comm_manager.register_target(comm_id, function(comm) {\n          comm.on_msg(msg_handler);\n        });\n      } else if ((plot_id in window.PyViz.kernels) && (window.PyViz.kernels[plot_id])) {\n        window.PyViz.kernels[plot_id].registerCommTarget(comm_id, function(comm) {\n          comm.onMsg = msg_handler;\n        });\n      } else if (typeof google != 'undefined' && google.colab.kernel != null) {\n        google.colab.kernel.comms.registerTarget(comm_id, (comm) => {\n          var messages = comm.messages[Symbol.asyncIterator]();\n          function processIteratorResult(result) {\n            var message = result.value;\n            console.log(message)\n            var content = {data: message.data, comm_id};\n            var buffers = []\n            for (var buffer of message.buffers || []) {\n              buffers.push(new DataView(buffer))\n            }\n            var metadata = message.metadata || {};\n            var msg = {content, buffers, metadata}\n            msg_handler(msg);\n            return messages.next().then(processIteratorResult);\n          }\n          return messages.next().then(processIteratorResult);\n        })\n      }\n    }\n\n    JupyterCommManager.prototype.get_client_comm = function(plot_id, comm_id, msg_handler) {\n      if (comm_id in window.PyViz.comms) {\n        return window.PyViz.comms[comm_id];\n      } else if (window.comm_manager || ((window.Jupyter !== undefined) && (Jupyter.notebook.kernel != null))) {\n        var comm_manager = window.comm_manager || Jupyter.notebook.kernel.comm_manager;\n        var comm = comm_manager.new_comm(comm_id, {}, {}, {}, comm_id);\n        if (msg_handler) {\n          comm.on_msg(msg_handler);\n        }\n      } else if ((plot_id in window.PyViz.kernels) && (window.PyViz.kernels[plot_id])) {\n        var comm = window.PyViz.kernels[plot_id].connectToComm(comm_id);\n        comm.open();\n        if (msg_handler) {\n          comm.onMsg = msg_handler;\n        }\n      } else if (typeof google != 'undefined' && google.colab.kernel != null) {\n        var comm_promise = google.colab.kernel.comms.open(comm_id)\n        comm_promise.then((comm) => {\n          window.PyViz.comms[comm_id] = comm;\n          if (msg_handler) {\n            var messages = comm.messages[Symbol.asyncIterator]();\n            function processIteratorResult(result) {\n              var message = result.value;\n              var content = {data: message.data};\n              var metadata = message.metadata || {comm_id};\n              var msg = {content, metadata}\n              msg_handler(msg);\n              return messages.next().then(processIteratorResult);\n            }\n            return messages.next().then(processIteratorResult);\n          }\n        }) \n        var sendClosure = (data, metadata, buffers, disposeOnDone) => {\n          return comm_promise.then((comm) => {\n            comm.send(data, metadata, buffers, disposeOnDone);\n          });\n        };\n        var comm = {\n          send: sendClosure\n        };\n      }\n      window.PyViz.comms[comm_id] = comm;\n      return comm;\n    }\n    window.PyViz.comm_manager = new JupyterCommManager();\n    \n\n\nvar JS_MIME_TYPE = 'application/javascript';\nvar HTML_MIME_TYPE = 'text/html';\nvar EXEC_MIME_TYPE = 'application/vnd.holoviews_exec.v0+json';\nvar CLASS_NAME = 'output';\n\n/**\n * Render data to the DOM node\n */\nfunction render(props, node) {\n  var div = document.createElement(\"div\");\n  var script = document.createElement(\"script\");\n  node.appendChild(div);\n  node.appendChild(script);\n}\n\n/**\n * Handle when a new output is added\n */\nfunction handle_add_output(event, handle) {\n  var output_area = handle.output_area;\n  var output = handle.output;\n  if ((output.data == undefined) || (!output.data.hasOwnProperty(EXEC_MIME_TYPE))) {\n    return\n  }\n  var id = output.metadata[EXEC_MIME_TYPE][\"id\"];\n  var toinsert = output_area.element.find(\".\" + CLASS_NAME.split(' ')[0]);\n  if (id !== undefined) {\n    var nchildren = toinsert.length;\n    var html_node = toinsert[nchildren-1].children[0];\n    html_node.innerHTML = output.data[HTML_MIME_TYPE];\n    var scripts = [];\n    var nodelist = html_node.querySelectorAll(\"script\");\n    for (var i in nodelist) {\n      if (nodelist.hasOwnProperty(i)) {\n        scripts.push(nodelist[i])\n      }\n    }\n\n    scripts.forEach( function (oldScript) {\n      var newScript = document.createElement(\"script\");\n      var attrs = [];\n      var nodemap = oldScript.attributes;\n      for (var j in nodemap) {\n        if (nodemap.hasOwnProperty(j)) {\n          attrs.push(nodemap[j])\n        }\n      }\n      attrs.forEach(function(attr) { newScript.setAttribute(attr.name, attr.value) });\n      newScript.appendChild(document.createTextNode(oldScript.innerHTML));\n      oldScript.parentNode.replaceChild(newScript, oldScript);\n    });\n    if (JS_MIME_TYPE in output.data) {\n      toinsert[nchildren-1].children[1].textContent = output.data[JS_MIME_TYPE];\n    }\n    output_area._hv_plot_id = id;\n    if ((window.Bokeh !== undefined) && (id in Bokeh.index)) {\n      window.PyViz.plot_index[id] = Bokeh.index[id];\n    } else {\n      window.PyViz.plot_index[id] = null;\n    }\n  } else if (output.metadata[EXEC_MIME_TYPE][\"server_id\"] !== undefined) {\n    var bk_div = document.createElement(\"div\");\n    bk_div.innerHTML = output.data[HTML_MIME_TYPE];\n    var script_attrs = bk_div.children[0].attributes;\n    for (var i = 0; i < script_attrs.length; i++) {\n      toinsert[toinsert.length - 1].childNodes[1].setAttribute(script_attrs[i].name, script_attrs[i].value);\n    }\n    // store reference to server id on output_area\n    output_area._bokeh_server_id = output.metadata[EXEC_MIME_TYPE][\"server_id\"];\n  }\n}\n\n/**\n * Handle when an output is cleared or removed\n */\nfunction handle_clear_output(event, handle) {\n  var id = handle.cell.output_area._hv_plot_id;\n  var server_id = handle.cell.output_area._bokeh_server_id;\n  if (((id === undefined) || !(id in PyViz.plot_index)) && (server_id !== undefined)) { return; }\n  var comm = window.PyViz.comm_manager.get_client_comm(\"hv-extension-comm\", \"hv-extension-comm\", function () {});\n  if (server_id !== null) {\n    comm.send({event_type: 'server_delete', 'id': server_id});\n    return;\n  } else if (comm !== null) {\n    comm.send({event_type: 'delete', 'id': id});\n  }\n  delete PyViz.plot_index[id];\n  if ((window.Bokeh !== undefined) & (id in window.Bokeh.index)) {\n    var doc = window.Bokeh.index[id].model.document\n    doc.clear();\n    const i = window.Bokeh.documents.indexOf(doc);\n    if (i > -1) {\n      window.Bokeh.documents.splice(i, 1);\n    }\n  }\n}\n\n/**\n * Handle kernel restart event\n */\nfunction handle_kernel_cleanup(event, handle) {\n  delete PyViz.comms[\"hv-extension-comm\"];\n  window.PyViz.plot_index = {}\n}\n\n/**\n * Handle update_display_data messages\n */\nfunction handle_update_output(event, handle) {\n  handle_clear_output(event, {cell: {output_area: handle.output_area}})\n  handle_add_output(event, handle)\n}\n\nfunction register_renderer(events, OutputArea) {\n  function append_mime(data, metadata, element) {\n    // create a DOM node to render to\n    var toinsert = this.create_output_subarea(\n    metadata,\n    CLASS_NAME,\n    EXEC_MIME_TYPE\n    );\n    this.keyboard_manager.register_events(toinsert);\n    // Render to node\n    var props = {data: data, metadata: metadata[EXEC_MIME_TYPE]};\n    render(props, toinsert[0]);\n    element.append(toinsert);\n    return toinsert\n  }\n\n  events.on('output_added.OutputArea', handle_add_output);\n  events.on('output_updated.OutputArea', handle_update_output);\n  events.on('clear_output.CodeCell', handle_clear_output);\n  events.on('delete.Cell', handle_clear_output);\n  events.on('kernel_ready.Kernel', handle_kernel_cleanup);\n\n  OutputArea.prototype.register_mime_type(EXEC_MIME_TYPE, append_mime, {\n    safe: true,\n    index: 0\n  });\n}\n\nif (window.Jupyter !== undefined) {\n  try {\n    var events = require('base/js/events');\n    var OutputArea = require('notebook/js/outputarea').OutputArea;\n    if (OutputArea.prototype.mime_types().indexOf(EXEC_MIME_TYPE) == -1) {\n      register_renderer(events, OutputArea);\n    }\n  } catch(err) {\n  }\n}\n",
      "application/vnd.holoviews_load.v0+json": ""
     },
     "metadata": {},
     "output_type": "display_data"
    },
    {
     "data": {
      "text/html": [
       "<style>*[data-root-id],\n",
       "*[data-root-id] > * {\n",
       "  box-sizing: border-box;\n",
       "  font-family: var(--jp-ui-font-family);\n",
       "  font-size: var(--jp-ui-font-size1);\n",
       "  color: var(--vscode-editor-foreground, var(--jp-ui-font-color1));\n",
       "}\n",
       "\n",
       "/* Override VSCode background color */\n",
       ".cell-output-ipywidget-background:has(\n",
       "    > .cell-output-ipywidget-background > .lm-Widget > *[data-root-id]\n",
       "  ),\n",
       ".cell-output-ipywidget-background:has(> .lm-Widget > *[data-root-id]) {\n",
       "  background-color: transparent !important;\n",
       "}\n",
       "</style>"
      ]
     },
     "metadata": {},
     "output_type": "display_data"
    }
   ],
   "source": [
    "import holoviews as hv\n",
    "import hvplot.pandas\n",
    "import pandas as pd\n",
    "\n",
    "hvplot.extension(\"matplotlib\")\n",
    "data = pd.read_csv(\"tourists.csv\")"
   ]
  },
  {
   "cell_type": "code",
   "execution_count": 2,
   "metadata": {},
   "outputs": [
    {
     "name": "stderr",
     "output_type": "stream",
     "text": [
      "/tmp/ipykernel_2490657/568515224.py:3: FutureWarning: Downcasting behavior in `replace` is deprecated and will be removed in a future version. To retain the old behavior, explicitly call `result.infer_objects(copy=False)`. To opt-in to the future behavior, set `pd.set_option('future.no_silent_downcasting', True)`\n",
      "  data = data.replace({'returning': {\n"
     ]
    },
    {
     "data": {
      "text/plain": [
       "Index(['sex', 'age', 'country', 'First Trip', 'Handshake', 'Hug', 'Kiss',\n",
       "       'Consent posture image', 'Interest posture image',\n",
       "       'Neutral posture image', 'Reflexive posture image',\n",
       "       'Negative posture image', 'Tense or Relaxed',\n",
       "       'Authoritative or Anarchic', 'Hostile or Friendly', 'Proximics',\n",
       "       'Sarcastic Voice', 'Friendly Voice', 'Spitting in Speech',\n",
       "       'Humming in Speech', 'Sighing in Speech', 'Authoritative Voice',\n",
       "       'Group'],\n",
       "      dtype='object')"
      ]
     },
     "execution_count": 2,
     "metadata": {},
     "output_type": "execute_result"
    }
   ],
   "source": [
    "data.columns = data.columns.str.strip()\n",
    "\n",
    "data = data.replace({'returning': {\n",
    "    'yes': True,\n",
    "    'no': False\n",
    "}})\n",
    "\n",
    "data = data.replace({\"?\": None})\n",
    "\n",
    "data.rename(columns={\n",
    "    \"returning\": \"First Trip\",\n",
    "    \"GImg1\": \"Handshake\",\n",
    "    \"GImg2\": \"Hug\",\n",
    "    \"GImg3\": \"Kiss\",\n",
    "    \"PImg1\": \"Consent posture image\",\n",
    "    \"PImg2\": \"Interest posture image\",\n",
    "    \"PImg3\": \"Neutral posture image\",\n",
    "    \"PImg4\": \"Reflexive posture image\",\n",
    "    \"PImg5\": \"Negative posture image\",\n",
    "    \"Tense - relaxed\": \"Tense or Relaxed\",\n",
    "    \"Authoritative -anarchic\": \"Authoritative or Anarchic\",\n",
    "    \"Hostile - friendly\": \"Hostile or Friendly\",\n",
    "    \"Proxemics\": \"Authoritative Voice\",\n",
    "    \"TAudio1\": \"Proximics\",\n",
    "    \"TAudio2\": \"Sarcastic Voice\",\n",
    "    \"TAudio3\": \"Friendly Voice\",\n",
    "    \"QAudio1\": \"Spitting in Speech\",\n",
    "    \"QAudio2\": \"Humming in Speech\",\n",
    "    \"QAudio3\": \"Sighing in Speech\",\n",
    "    \"Type of Client\": \"Group\"\n",
    "}, inplace=True)\n",
    "\n",
    "data.columns"
   ]
  },
  {
   "cell_type": "markdown",
   "metadata": {},
   "source": [
    "## Data Dictionary\n",
    "\n",
    "* `sex`: Respondants indicated sex (M, F)\n",
    "* `age`: Respondants indicated age\n",
    "* `First Trip`: If this the first time this respondant has been to this hotel.\n",
    "* `Handshake`, `Hug`, and `Kiss`: If the respondant likes these types of interactions.\n",
    "* `Consent posture image`: If the respondant likes the named posture shown to them in an image.\n",
    "* `Interest posture image`: If the respondant likes the named posture shown to them in an image.\n",
    "* `Neutral posture image`: If the respondant likes the named posture shown to them in an image.\n",
    "* `Reflexive posture image`: If the respondant likes the named posture shown to them in an image.\n",
    "* `Negative posture image`: If the respondant likes the named posture shown to them in an image.\n",
    "* `Tense or Relaxed`: A sliding scale of how the respondant feels the people they interacted with were. Higher = More Relaxed, while Lower = More Tense. \n",
    "* `Authoritative or Anarchic`: A sliding scale of how the respondant feels the people they interacted with were. Higher = More Anarchic, while Lower = More Authorative.\n",
    "* `Hostile or Friendly`: A sliding scale of how the respondant feels the people they interacted with were. Higher = More Friendly, while Lower = More Hostile.\n",
    "* `Proximics`: The physical distance preferred by the client\n",
    "  * `A`: Intimate (`15-45cm`)\n",
    "  * `B`: Personal (`46-122cm`)\n",
    "  * `C`: Social (`123-360cm`)\n",
    "  * `D`: Public (`>360cm`)\n",
    "* `Sarcastic Voice`: If the respondant likes sarcasm when they're spoken to.\n",
    "* `Friendly Voice`: If the respondant likes friendliness when they're spoken to.\n",
    "* `Spitting in Speech`: If the respondant likes spitting in conversations from the person they're speaking to. \n",
    "* `Humming in Speech`: If the respondant likes humming in conversations from the person they're speaking to.\n",
    "* `Sighing in Speech`: If the respondant likes sighing in conversations from the person they're speaking to.\n",
    "* `Authoriative Voice`: If the respondant likes authoritarianism when they're spoken to.\n",
    "* `Group`: What experiment group the client fell into."
   ]
  },
  {
   "cell_type": "markdown",
   "metadata": {},
   "source": [
    "## Age Distribution"
   ]
  },
  {
   "cell_type": "markdown",
   "metadata": {},
   "source": [
    "### What is the average age of the surveyed customers?"
   ]
  },
  {
   "cell_type": "code",
   "execution_count": 3,
   "metadata": {},
   "outputs": [
    {
     "data": {
      "text/plain": [
       "47.26027397260274"
      ]
     },
     "execution_count": 3,
     "metadata": {},
     "output_type": "execute_result"
    }
   ],
   "source": [
    "average_age = data['age'].mean()\n",
    "average_age"
   ]
  },
  {
   "cell_type": "markdown",
   "metadata": {},
   "source": [
    "The average age in the surveyed customers is about 47.26 years old."
   ]
  },
  {
   "cell_type": "markdown",
   "metadata": {},
   "source": [
    "### How variable is the age distribution among the surveyed customers?"
   ]
  },
  {
   "cell_type": "code",
   "execution_count": 4,
   "metadata": {},
   "outputs": [
    {
     "data": {
      "text/plain": [
       "(228.47298325722983, 15.115322796990801)"
      ]
     },
     "execution_count": 4,
     "metadata": {},
     "output_type": "execute_result"
    }
   ],
   "source": [
    "age_variance = data['age'].var()\n",
    "age_std_dev = data['age'].std()\n",
    "age_variance, age_std_dev"
   ]
  },
  {
   "cell_type": "markdown",
   "metadata": {},
   "source": [
    "The variance of age in the surveyed customers is approximiately 228.73 with a standard deviation of approximately 15.11 years."
   ]
  },
  {
   "cell_type": "code",
   "execution_count": 5,
   "metadata": {},
   "outputs": [
    {
     "data": {
      "text/html": [
       "<img src='data:image/png;base64,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' style='max-width:100%; margin: auto; display: block; '/>"
      ],
      "text/plain": [
       ":Histogram   [age]   (age_count)"
      ]
     },
     "execution_count": 5,
     "metadata": {
      "application/vnd.holoviews_exec.v0+json": {}
     },
     "output_type": "execute_result"
    }
   ],
   "source": [
    "data['age'].hvplot.hist(\n",
    "    title=\"Age Distribution\",\n",
    "    xlabel='Age', \n",
    "    ylabel='Frequency',\n",
    ")"
   ]
  },
  {
   "cell_type": "markdown",
   "metadata": {},
   "source": [
    "# Tense vs Relaxed"
   ]
  },
  {
   "cell_type": "code",
   "execution_count": 6,
   "metadata": {},
   "outputs": [
    {
     "data": {
      "text/plain": [
       "(1, 5)"
      ]
     },
     "execution_count": 6,
     "metadata": {},
     "output_type": "execute_result"
    }
   ],
   "source": [
    "tvr_max = data['Tense or Relaxed'].max()\n",
    "tvr_min = data['Tense or Relaxed'].min()\n",
    "\n",
    "(tvr_min, tvr_max)"
   ]
  },
  {
   "cell_type": "markdown",
   "metadata": {},
   "source": [
    "This value appears to be between 1 and 5, not the expected 1 to 10. This is important to keep in mind."
   ]
  },
  {
   "cell_type": "code",
   "execution_count": 7,
   "metadata": {},
   "outputs": [
    {
     "data": {
      "text/plain": [
       "2.0"
      ]
     },
     "execution_count": 7,
     "metadata": {},
     "output_type": "execute_result"
    }
   ],
   "source": [
    "median_tense_relaxed = data['Tense or Relaxed'].median()\n",
    "median_tense_relaxed"
   ]
  },
  {
   "cell_type": "markdown",
   "metadata": {},
   "source": [
    "Surveyed customers identified that employees mostly remained tense during the experiment."
   ]
  },
  {
   "cell_type": "code",
   "execution_count": 8,
   "metadata": {},
   "outputs": [
    {
     "data": {
      "text/plain": [
       "'B'"
      ]
     },
     "execution_count": 8,
     "metadata": {},
     "output_type": "execute_result"
    }
   ],
   "source": [
    "proximic_preferences = data['Proximics'].mode()[0]\n",
    "proximic_preferences"
   ]
  },
  {
   "cell_type": "markdown",
   "metadata": {},
   "source": [
    "The most preferred Proximics category among the surveyed customers is \"Personal\" or distances from 46cm to 122cm"
   ]
  },
  {
   "cell_type": "code",
   "execution_count": 9,
   "metadata": {},
   "outputs": [
    {
     "data": {
      "text/plain": [
       "Proximics\n",
       "A    23\n",
       "B    28\n",
       "C    19\n",
       "D     3\n",
       "Name: count, dtype: int64"
      ]
     },
     "execution_count": 9,
     "metadata": {},
     "output_type": "execute_result"
    }
   ],
   "source": [
    "proximic_counts = data['Proximics'].value_counts().reindex(['A', 'B', 'C', 'D'])\n",
    "proximic_counts"
   ]
  },
  {
   "cell_type": "markdown",
   "metadata": {},
   "source": [
    "The rest of the proximics are as follows:\n",
    "\n",
    "A: Intimate (`15-45cm`) - 23\n",
    "\n",
    "B: Personal (`46-122cm`) - 28\n",
    "\n",
    "C: Social (`123-360cm`) - 19\n",
    "\n",
    "D: Public (`>360cm`) - 3"
   ]
  },
  {
   "cell_type": "code",
   "execution_count": 10,
   "metadata": {},
   "outputs": [
    {
     "data": {
      "text/html": [
       "<img src='data:image/png;base64,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' style='max-width:100%; margin: auto; display: block; '/>"
      ],
      "text/plain": [
       ":Bars   [Proximics]   (count)"
      ]
     },
     "execution_count": 10,
     "metadata": {
      "application/vnd.holoviews_exec.v0+json": {}
     },
     "output_type": "execute_result"
    }
   ],
   "source": [
    "proximic_counts.hvplot.bar(\n",
    "    title='Proximic Preferences Distribution',\n",
    "    xlabel='Proximic Category',\n",
    "    ylabel='Count',\n",
    ")"
   ]
  },
  {
   "cell_type": "markdown",
   "metadata": {},
   "source": [
    "# Correlation Matrix"
   ]
  },
  {
   "cell_type": "code",
   "execution_count": 11,
   "metadata": {},
   "outputs": [],
   "source": [
    "numeric_columns = ['age', 'Tense or Relaxed', 'Authoritative or Anarchic', 'Hostile or Friendly']\n",
    "\n",
    "categorical_columns = [col for col in data.columns if col not in numeric_columns]\n",
    "\n",
    "df_numeric = data[numeric_columns]\n",
    "df_encoded = pd.get_dummies(data[categorical_columns], drop_first=True)\n",
    "\n",
    "correlation_matrix = pd.concat([df_numeric, df_encoded], axis=1).corr()"
   ]
  },
  {
   "cell_type": "markdown",
   "metadata": {},
   "source": [
    "We're working with a LOT of numbers. So let's find the strongest positive and negative correlations programatically."
   ]
  },
  {
   "cell_type": "code",
   "execution_count": 12,
   "metadata": {},
   "outputs": [
    {
     "data": {
      "text/plain": [
       "Neutral posture image_likes  Handshake_likes                      0.738529\n",
       "Sighing in Speech_likes      Negative posture image_indiferent    0.702179\n",
       "Kiss_likes                   Hug_likes                            0.669456\n",
       "Handshake_likes              Handshake_indiferent                -0.812366\n",
       "Spitting in Speech_likes     Spitting in Speech_indiferent       -0.723102\n",
       "Hug_likes                    Hug_indiferent                      -0.703427\n",
       "dtype: float64"
      ]
     },
     "execution_count": 12,
     "metadata": {},
     "output_type": "execute_result"
    }
   ],
   "source": [
    "CORRS_TO_FIND = 3\n",
    "\n",
    "corrs_top_positive = (correlation_matrix[correlation_matrix < 1.0].stack().nlargest(CORRS_TO_FIND * 2))   # We're going to get the same pairs twice (a,b) and (b,a)\n",
    "corrs_top_negative = (correlation_matrix[correlation_matrix > -1.0].stack().nsmallest(CORRS_TO_FIND * 2)) # We're going to get the same pairs twice (a,b) and (b,a)\n",
    "\n",
    "corrs_all_top = pd.concat([corrs_top_positive, corrs_top_negative])\n",
    "corrs_all_top.drop_duplicates(keep='last')"
   ]
  },
  {
   "cell_type": "markdown",
   "metadata": {},
   "source": [
    "Much better :)\n",
    "\n",
    "We can see there is a strong positive correlation between people who liked the neutral posture image and being handshaken. This is a relatively boring conclusion, much more interestingly: those who liked people who speaking to them sighing didn't like the negative posture image."
   ]
  },
  {
   "cell_type": "markdown",
   "metadata": {},
   "source": [
    "# Statistical Analysis\n",
    "\n",
    "Can we prove that this test was truly random?"
   ]
  },
  {
   "cell_type": "markdown",
   "metadata": {},
   "source": [
    "## Hypothesis:\n",
    "\n",
    "* Null Hypothesis (H0): The average ages of the groups are equal.\n",
    "* Alternative Hypothesis (H1): At least one of the groups has a different average age."
   ]
  },
  {
   "cell_type": "markdown",
   "metadata": {},
   "source": [
    "## Statistical Analysis:\n",
    "\n",
    "* Independent Variable: 'Type of Client' (Categorical with 6 levels 0-5)\n",
    "* Dependent Variable: 'Age'\n",
    "* Significance Level (α): 0.05"
   ]
  },
  {
   "cell_type": "markdown",
   "metadata": {},
   "source": [
    "## Analytical Questions\n",
    "\n",
    "> Is there significant evidence to reject the null hypothesis that the average ages of the three groups are equal?\n",
    "\n",
    "There is significant evidence to reject the null hypothesis that the average ages of the groups are equal. The one-way ANOVA test yielded a statistically significant result (F-statistic = 2.84, p-value = 0.0218), indicating differences in average ages among the groups.\n",
    "\n",
    "> What is the result of the ANOVA test? Do we reject or fail to reject the null hypothesis?\n",
    "\n",
    "The result of the one-way ANOVA test is statistically significant (p-value = 0.0218). Therefore, we reject the null hypothesis, suggesting that there are significant differences in average ages among the groups.\n",
    "\n",
    "> If the ANOVA test indicates significant differences, which specific groups have different average ages?\n",
    "\n",
    "Post-hoc analysis using Tukey's Honestly Significant Difference (HSD) test was conducted to identify specific group differences. The Tukey's HSD results reveal pairwise comparisons of average ages between different customer groups. "
   ]
  },
  {
   "cell_type": "code",
   "execution_count": 21,
   "metadata": {},
   "outputs": [
    {
     "data": {
      "text/plain": [
       "(2.8426341248748255,\n",
       " 0.021825497755321794,\n",
       " <statsmodels.sandbox.stats.multicomp.TukeyHSDResults at 0x72142060b2d0>)"
      ]
     },
     "execution_count": 21,
     "metadata": {},
     "output_type": "execute_result"
    }
   ],
   "source": [
    "from scipy.stats import f_oneway\n",
    "from statsmodels.stats.multicomp import pairwise_tukeyhsd\n",
    "\n",
    "f_stat, p_value_anova = f_oneway(\n",
    "    data['age'][data['Group'] == 0].dropna(),\n",
    "    data['age'][data['Group'] == 1].dropna(),\n",
    "    data['age'][data['Group'] == 2].dropna(),\n",
    "    data['age'][data['Group'] == 3].dropna(),\n",
    "    data['age'][data['Group'] == 4].dropna(),\n",
    "    data['age'][data['Group'] == 5].dropna())\n",
    "\n",
    "# Perform post-hoc Tukey's HSD test if ANOVA is significant\n",
    "if p_value_anova < 0.05:\n",
    "    tukey_results = pairwise_tukeyhsd(data['age'].dropna(), data['Group'].dropna(), alpha=0.05)\n",
    "\n",
    "f_stat, p_value_anova, tukey_results"
   ]
  },
  {
   "cell_type": "code",
   "execution_count": 22,
   "metadata": {},
   "outputs": [
    {
     "data": {
      "text/html": [
       "<table class=\"simpletable\">\n",
       "<caption>Multiple Comparison of Means - Tukey HSD, FWER=0.05</caption>\n",
       "<tr>\n",
       "  <th>group1</th> <th>group2</th> <th>meandiff</th>  <th>p-adj</th>   <th>lower</th>   <th>upper</th>  <th>reject</th>\n",
       "</tr>\n",
       "<tr>\n",
       "     <td>0</td>      <td>1</td>      <td>3.5</td>   <td>0.9991</td> <td>-24.5096</td> <td>31.5096</td>  <td>False</td>\n",
       "</tr>\n",
       "<tr>\n",
       "     <td>0</td>      <td>2</td>    <td>12.8611</td> <td>0.4151</td>  <td>-7.0666</td> <td>32.7888</td>  <td>False</td>\n",
       "</tr>\n",
       "<tr>\n",
       "     <td>0</td>      <td>3</td>      <td>8.2</td>   <td>0.8983</td> <td>-14.6697</td> <td>31.0697</td>  <td>False</td>\n",
       "</tr>\n",
       "<tr>\n",
       "     <td>0</td>      <td>4</td>    <td>-1.3571</td>   <td>1.0</td>  <td>-23.1106</td> <td>20.3963</td>  <td>False</td>\n",
       "</tr>\n",
       "<tr>\n",
       "     <td>0</td>      <td>5</td>     <td>-2.5</td>   <td>0.9998</td> <td>-30.5096</td> <td>25.5096</td>  <td>False</td>\n",
       "</tr>\n",
       "<tr>\n",
       "     <td>1</td>      <td>2</td>    <td>9.3611</td>  <td>0.8115</td> <td>-12.6453</td> <td>31.3675</td>  <td>False</td>\n",
       "</tr>\n",
       "<tr>\n",
       "     <td>1</td>      <td>3</td>      <td>4.7</td>   <td>0.9933</td> <td>-20.0021</td> <td>29.4021</td>  <td>False</td>\n",
       "</tr>\n",
       "<tr>\n",
       "     <td>1</td>      <td>4</td>    <td>-4.8571</td> <td>0.9905</td> <td>-28.5296</td> <td>18.8153</td>  <td>False</td>\n",
       "</tr>\n",
       "<tr>\n",
       "     <td>1</td>      <td>5</td>     <td>-6.0</td>    <td>0.991</td> <td>-35.5247</td> <td>23.5247</td>  <td>False</td>\n",
       "</tr>\n",
       "<tr>\n",
       "     <td>2</td>      <td>3</td>    <td>-4.6611</td>  <td>0.941</td> <td>-19.5866</td> <td>10.2644</td>  <td>False</td>\n",
       "</tr>\n",
       "<tr>\n",
       "     <td>2</td>      <td>4</td>   <td>-14.2183</td> <td>0.0266</td> <td>-27.3696</td> <td>-1.0669</td>  <td>True</td> \n",
       "</tr>\n",
       "<tr>\n",
       "     <td>2</td>      <td>5</td>   <td>-15.3611</td> <td>0.3271</td> <td>-37.3675</td> <td>6.6453</td>   <td>False</td>\n",
       "</tr>\n",
       "<tr>\n",
       "     <td>3</td>      <td>4</td>    <td>-9.5571</td> <td>0.5873</td>  <td>-26.845</td> <td>7.7308</td>   <td>False</td>\n",
       "</tr>\n",
       "<tr>\n",
       "     <td>3</td>      <td>5</td>     <td>-10.7</td>  <td>0.7996</td> <td>-35.4021</td> <td>14.0021</td>  <td>False</td>\n",
       "</tr>\n",
       "<tr>\n",
       "     <td>4</td>      <td>5</td>    <td>-1.1429</td>   <td>1.0</td>  <td>-24.8153</td> <td>22.5296</td>  <td>False</td>\n",
       "</tr>\n",
       "</table>"
      ],
      "text/latex": [
       "\\begin{center}\n",
       "\\begin{tabular}{ccccccc}\n",
       "\\toprule\n",
       "\\textbf{group1} & \\textbf{group2} & \\textbf{meandiff} & \\textbf{p-adj} & \\textbf{lower} & \\textbf{upper} & \\textbf{reject}  \\\\\n",
       "\\midrule\n",
       "       0        &        1        &        3.5        &     0.9991     &    -24.5096    &    31.5096     &      False       \\\\\n",
       "       0        &        2        &      12.8611      &     0.4151     &    -7.0666     &    32.7888     &      False       \\\\\n",
       "       0        &        3        &        8.2        &     0.8983     &    -14.6697    &    31.0697     &      False       \\\\\n",
       "       0        &        4        &      -1.3571      &      1.0       &    -23.1106    &    20.3963     &      False       \\\\\n",
       "       0        &        5        &        -2.5       &     0.9998     &    -30.5096    &    25.5096     &      False       \\\\\n",
       "       1        &        2        &       9.3611      &     0.8115     &    -12.6453    &    31.3675     &      False       \\\\\n",
       "       1        &        3        &        4.7        &     0.9933     &    -20.0021    &    29.4021     &      False       \\\\\n",
       "       1        &        4        &      -4.8571      &     0.9905     &    -28.5296    &    18.8153     &      False       \\\\\n",
       "       1        &        5        &        -6.0       &     0.991      &    -35.5247    &    23.5247     &      False       \\\\\n",
       "       2        &        3        &      -4.6611      &     0.941      &    -19.5866    &    10.2644     &      False       \\\\\n",
       "       2        &        4        &      -14.2183     &     0.0266     &    -27.3696    &    -1.0669     &       True       \\\\\n",
       "       2        &        5        &      -15.3611     &     0.3271     &    -37.3675    &     6.6453     &      False       \\\\\n",
       "       3        &        4        &      -9.5571      &     0.5873     &    -26.845     &     7.7308     &      False       \\\\\n",
       "       3        &        5        &       -10.7       &     0.7996     &    -35.4021    &    14.0021     &      False       \\\\\n",
       "       4        &        5        &      -1.1429      &      1.0       &    -24.8153    &    22.5296     &      False       \\\\\n",
       "\\bottomrule\n",
       "\\end{tabular}\n",
       "%\\caption{Multiple Comparison of Means - Tukey HSD, FWER=0.05}\n",
       "\\end{center}"
      ],
      "text/plain": [
       "<class 'statsmodels.iolib.table.SimpleTable'>"
      ]
     },
     "execution_count": 22,
     "metadata": {},
     "output_type": "execute_result"
    }
   ],
   "source": [
    "tukey_results.summary()"
   ]
  }
 ],
 "metadata": {
  "kernelspec": {
   "display_name": ".venv",
   "language": "python",
   "name": "python3"
  },
  "language_info": {
   "codemirror_mode": {
    "name": "ipython",
    "version": 3
   },
   "file_extension": ".py",
   "mimetype": "text/x-python",
   "name": "python",
   "nbconvert_exporter": "python",
   "pygments_lexer": "ipython3",
   "version": "3.11.7"
  }
 },
 "nbformat": 4,
 "nbformat_minor": 2
}
